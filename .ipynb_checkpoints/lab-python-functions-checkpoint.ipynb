{
 "cells": [
  {
   "cell_type": "markdown",
   "id": "25d7736c-ba17-4aff-b6bb-66eba20fbf4e",
   "metadata": {},
   "source": [
    "# Lab | Functions"
   ]
  },
  {
   "cell_type": "markdown",
   "id": "0c581062-8967-4d93-b06e-62833222f930",
   "metadata": {
    "tags": []
   },
   "source": [
    "## Exercise: Managing Customer Orders with Functions\n",
    "\n",
    "In the previous exercise, you improved the code for managing customer orders by using loops and flow control. Now, let's take it a step further and refactor the code by introducing functions.\n",
    "\n",
    "Follow the steps below to complete the exercise:\n",
    "\n",
    "1. Define a function named `initialize_inventory` that takes `products` as a parameter. Inside the function, implement the code for initializing the inventory dictionary using a loop and user input.\n",
    "\n",
    "2. Define a function named `get_customer_orders` that takes no parameters. Inside the function, implement the code for prompting the user to enter the product names using a loop. The function should return the `customer_orders` set.\n",
    "\n",
    "3. Define a function named `update_inventory` that takes `customer_orders` and `inventory` as parameters. Inside the function, implement the code for updating the inventory dictionary based on the customer orders.\n",
    "\n",
    "4. Define a function named `calculate_order_statistics` that takes `customer_orders` and `products` as parameters. Inside the function, implement the code for calculating the order statistics (total products ordered, and percentage of unique products ordered). The function should return these values.\n",
    "\n",
    "5. Define a function named `print_order_statistics` that takes `order_statistics` as a parameter. Inside the function, implement the code for printing the order statistics.\n",
    "\n",
    "6. Define a function named `print_updated_inventory` that takes `inventory` as a parameter. Inside the function, implement the code for printing the updated inventory.\n",
    "\n",
    "7. Call the functions in the appropriate sequence to execute the program and manage customer orders.\n",
    "\n",
    "Hints for functions:\n",
    "\n",
    "- Consider the input parameters required for each function and their return values.\n",
    "- Utilize function parameters and return values to transfer data between functions.\n",
    "- Test your functions individually to ensure they work correctly.\n",
    "\n",
    "\n"
   ]
  },
  {
   "cell_type": "code",
   "execution_count": 1,
   "id": "09d75200",
   "metadata": {},
   "outputs": [],
   "source": [
    "def initialize_inventory (products): #Define a function named initialize_inventory that takes products as a parameter.\n",
    "    inventory = {}\n",
    "    for product in products:\n",
    "        quantity = int(input(f\"Enter the quantity of {product}\"))\n",
    "        inventory[product] = quantity\n",
    "    return(inventory)"
   ]
  },
  {
   "cell_type": "code",
   "execution_count": 2,
   "id": "2462662b",
   "metadata": {},
   "outputs": [
    {
     "name": "stdout",
     "output_type": "stream",
     "text": [
      "Enter the quantity of t-shirt4\n",
      "Enter the quantity of mug4\n",
      "Enter the quantity of hat4\n",
      "Enter the quantity of book4\n",
      "Enter the quantity of keychain4\n",
      "Initialized Inventory:\n",
      "t-shirt:4\n",
      "mug:4\n",
      "hat:4\n",
      "book:4\n",
      "keychain:4\n"
     ]
    }
   ],
   "source": [
    "products = [\"t-shirt\",\"mug\",\"hat\",\"book\",\"keychain\"]\n",
    "inventory = initialize_inventory(products)\n",
    "print(\"Initialized Inventory:\")\n",
    "for product,quantity in inventory.items():\n",
    "    print(f\"{product}:{quantity}\")\n"
   ]
  },
  {
   "cell_type": "code",
   "execution_count": 3,
   "id": "fc3bd5b7",
   "metadata": {},
   "outputs": [
    {
     "name": "stdout",
     "output_type": "stream",
     "text": [
      "choose a product:keychain\n",
      "Want to choose more products: (yes/no)yes\n",
      "choose a product:mug\n",
      "Want to choose more products: (yes/no)no\n",
      "Customer's Orders: {'mug', 'keychain'}\n"
     ]
    }
   ],
   "source": [
    "def get_customer_orders(): #Define a function named get_customer_orders that takes no parameters. \n",
    "    customers_orders = set()\n",
    "    add_products = True\n",
    "    while add_products:\n",
    "        product = input(\"choose a product:\")\n",
    "        customers_orders.add(product)\n",
    "        response = input(\"Want to choose more products: (yes/no)\") \n",
    "        if response != \"yes\":\n",
    "            add_products = False #Continue the loop until the user does not want to add another product.\n",
    "    return customers_orders\n",
    "\n",
    "customers_orders = get_customer_orders()\n",
    "\n",
    "print(\"Customer's Orders:\",customers_orders)\n"
   ]
  },
  {
   "cell_type": "code",
   "execution_count": 4,
   "id": "fd563d0a",
   "metadata": {},
   "outputs": [
    {
     "name": "stdout",
     "output_type": "stream",
     "text": [
      "Update Inventory: {'t-shirt': 4, 'mug': 3, 'hat': 4, 'book': 4, 'keychain': 3}\n"
     ]
    }
   ],
   "source": [
    "def update_inventory(customers_orders,inventory):  #Define a function named update_inventory that takes customer_orders and inventory as parameters. \n",
    "    for product in customers_orders:\n",
    "        if product in inventory and inventory[product] > 0:\n",
    "            inventory[product] -= 1\n",
    "    \n",
    "    return(inventory)\n",
    "\n",
    "inventory = update_inventory(customers_orders,inventory)\n",
    "\n",
    "print(\"Update Inventory:\",inventory)"
   ]
  },
  {
   "cell_type": "code",
   "execution_count": 5,
   "id": "6f670907",
   "metadata": {},
   "outputs": [],
   "source": [
    "#Statistics:\n",
    "\n",
    "def calculate_order_statistics(customers_orders,products):\n",
    "    ordered_products =len(customers_orders)\n",
    "    available_products = len(products)\n",
    "    percentage = ((ordered_products/available_products)*100)\n",
    "    \n",
    "    return (ordered_products,percentage)\n",
    "\n",
    "order_statistics = calculate_order_statistics(customers_orders,products)"
   ]
  },
  {
   "cell_type": "code",
   "execution_count": 6,
   "id": "d1ea41bf",
   "metadata": {},
   "outputs": [
    {
     "name": "stdout",
     "output_type": "stream",
     "text": [
      "Total products ordered: 2\n",
      "percentage of products 40.0 %\n"
     ]
    }
   ],
   "source": [
    "# Define a function named print_order_statistics that takes order_statistics as a parameter. \n",
    "\n",
    "def print_order_statistics(order_statistics):\n",
    "    ordered_products,percentage = order_statistics\n",
    "    print(\"Total products ordered:\",ordered_products)\n",
    "    print(\"percentage of products\",percentage,\"%\")\n",
    "\n",
    "print_order_statistics(order_statistics)\n"
   ]
  },
  {
   "cell_type": "code",
   "execution_count": 7,
   "id": "628744e7",
   "metadata": {},
   "outputs": [
    {
     "name": "stdout",
     "output_type": "stream",
     "text": [
      "t-shirt:4\n",
      "mug:3\n",
      "hat:4\n",
      "book:4\n",
      "keychain:3\n"
     ]
    }
   ],
   "source": [
    "## Define a function named print_updated_inventory that takes inventory as a parameter. \n",
    "\n",
    "def print_updated_inventory (inventory):\n",
    "    for product, quantity in inventory.items():\n",
    "        print(f\"{product}:{quantity}\")\n",
    "\n",
    "print_updated_inventory(inventory)"
   ]
  },
  {
   "cell_type": "code",
   "execution_count": 8,
   "id": "f1becb27",
   "metadata": {},
   "outputs": [
    {
     "name": "stdout",
     "output_type": "stream",
     "text": [
      "Enter the quantity of t-shirt4\n",
      "Enter the quantity of mug4\n",
      "Enter the quantity of hat4\n",
      "Enter the quantity of book4\n",
      "Enter the quantity of keychain4\n",
      "choose a product:mug\n",
      "Want to choose more products: (yes/no)yes\n",
      "choose a product:hat\n",
      "Want to choose more products: (yes/no)no\n",
      "Total products ordered: 2\n",
      "percentage of products 40.0 %\n",
      "t-shirt:4\n",
      "mug:3\n",
      "hat:3\n",
      "book:4\n",
      "keychain:4\n"
     ]
    }
   ],
   "source": [
    "inventory = initialize_inventory (products)\n",
    "customers_orders = get_customer_orders()\n",
    "inventory = update_inventory(customers_orders,inventory)\n",
    "order_statistics = calculate_order_statistics(customers_orders,products)\n",
    "print_order_statistics(order_statistics)\n",
    "print_updated_inventory (inventory)"
   ]
  },
  {
   "cell_type": "code",
   "execution_count": null,
   "id": "3a8834a7",
   "metadata": {},
   "outputs": [],
   "source": []
  }
 ],
 "metadata": {
  "kernelspec": {
   "display_name": "Python 3 (ipykernel)",
   "language": "python",
   "name": "python3"
  },
  "language_info": {
   "codemirror_mode": {
    "name": "ipython",
    "version": 3
   },
   "file_extension": ".py",
   "mimetype": "text/x-python",
   "name": "python",
   "nbconvert_exporter": "python",
   "pygments_lexer": "ipython3",
   "version": "3.11.5"
  }
 },
 "nbformat": 4,
 "nbformat_minor": 5
}
